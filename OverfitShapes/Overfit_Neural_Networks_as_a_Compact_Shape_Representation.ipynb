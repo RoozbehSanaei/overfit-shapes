{
  "nbformat": 4,
  "nbformat_minor": 0,
  "metadata": {
    "accelerator": "GPU",
    "colab": {
      "name": "Overfit Neural Networks as a Compact Shape Representation",
      "provenance": [],
      "collapsed_sections": []
    },
    "kernelspec": {
      "name": "Python 3.8.3 64-bit",
      "display_name": "Python 3.8.3 64-bit",
      "metadata": {
        "interpreter": {
          "hash": "bdcb7a30b70a7c4c0ae59b310e44a7da840ff23e2bdcd3f2a7738aa82e786a74"
        }
      }
    }
  },
  "cells": [
    {
      "cell_type": "code",
      "metadata": {
        "id": "k7IRG04mT_Cj",
        "outputId": "a5d6f4cc-c445-4bb1-9ce1-b1e92f013e99",
        "colab": {
          "base_uri": "https://localhost:8080/",
          "height": 1000
        }
      },
      "source": [
        "import logging\n",
        "from NeuralImplicit import NeuralImplicit\n",
        "from FileUtilities import parallelForEachFile\n",
        "\n",
        "mesh_folder = \"./\" #PATH TO FOLDER CONTAINING MESH FILES\n",
        "\n",
        "logging.getLogger().addHandler(logging.StreamHandler(sys.stdout))\n",
        "logging.getLogger().setLevel(logging.INFO)\n",
        "\n",
        "def train(filename):\n",
        "    mesh = NeuralImplicit()\n",
        "    mesh.encode(filename)\n",
        "\n",
        "parallelForEachFile(mesh_folder, train, [\".obj\",\".stl\"], 4)"
      ],
      "execution_count": null,
      "outputs": []
    },
    {
      "cell_type": "code",
      "metadata": {
        "id": "qT5BIpQswfH1"
      },
      "source": [
        ""
      ],
      "execution_count": null,
      "outputs": []
    }
  ]
}